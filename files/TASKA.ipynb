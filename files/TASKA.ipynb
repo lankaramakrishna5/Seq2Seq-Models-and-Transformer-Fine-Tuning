{
 "cells": [
  {
   "cell_type": "markdown",
   "metadata": {
    "id": "dIotCn6WQ4sn"
   },
   "source": [
    "# IMPORTING LIBRARIES"
   ]
  },
  {
   "cell_type": "code",
   "execution_count": 1,
   "metadata": {
    "execution": {
     "iopub.execute_input": "2025-04-13T09:02:49.186306Z",
     "iopub.status.busy": "2025-04-13T09:02:49.186083Z",
     "iopub.status.idle": "2025-04-13T09:02:53.200917Z",
     "shell.execute_reply": "2025-04-13T09:02:53.200044Z",
     "shell.execute_reply.started": "2025-04-13T09:02:49.186278Z"
    },
    "id": "CHlmYExBYvY4"
   },
   "outputs": [],
   "source": [
    "import pandas as pd\n",
    "import nltk\n",
    "from nltk.corpus import stopwords\n",
    "from nltk.stem import WordNetLemmatizer # Or PorterStemmer if you prefer\n",
    "from nltk.tokenize import word_tokenize\n",
    "import string\n",
    "# import re # Not strictly needed with current punctuation removal method\n",
    "import time\n",
    "import os # To create output directory if needed\n"
   ]
  },
  {
   "cell_type": "markdown",
   "metadata": {
    "id": "qt9ZzevtRfkM"
   },
   "source": [
    "# Downloading necessary NLTK data"
   ]
  },
  {
   "cell_type": "code",
   "execution_count": 2,
   "metadata": {
    "execution": {
     "iopub.execute_input": "2025-04-13T09:02:53.203243Z",
     "iopub.status.busy": "2025-04-13T09:02:53.202883Z",
     "iopub.status.idle": "2025-04-13T09:02:53.480683Z",
     "shell.execute_reply": "2025-04-13T09:02:53.480114Z",
     "shell.execute_reply.started": "2025-04-13T09:02:53.203224Z"
    },
    "id": "pymizpEXYyv6",
    "outputId": "1703affe-e33d-409a-8c07-67c86c9864bc"
   },
   "outputs": [
    {
     "name": "stderr",
     "output_type": "stream",
     "text": [
      "[nltk_data] Downloading package punkt to /usr/share/nltk_data...\n",
      "[nltk_data]   Package punkt is already up-to-date!\n",
      "[nltk_data] Downloading package stopwords to /usr/share/nltk_data...\n",
      "[nltk_data]   Package stopwords is already up-to-date!\n",
      "[nltk_data] Downloading package wordnet to /usr/share/nltk_data...\n",
      "[nltk_data]   Package wordnet is already up-to-date!\n"
     ]
    },
    {
     "data": {
      "text/plain": [
       "True"
      ]
     },
     "execution_count": 2,
     "metadata": {},
     "output_type": "execute_result"
    }
   ],
   "source": [
    "\n",
    "nltk.download('punkt')\n",
    "nltk.download('stopwords')\n",
    "nltk.download('wordnet')\n"
   ]
  },
  {
   "cell_type": "markdown",
   "metadata": {
    "id": "vsBKON5YROR1"
   },
   "source": [
    "# DATA PREPROCESSING"
   ]
  },
  {
   "cell_type": "code",
   "execution_count": 3,
   "metadata": {
    "execution": {
     "iopub.execute_input": "2025-04-13T09:02:53.481574Z",
     "iopub.status.busy": "2025-04-13T09:02:53.481350Z",
     "iopub.status.idle": "2025-04-13T09:02:53.499548Z",
     "shell.execute_reply": "2025-04-13T09:02:53.498816Z",
     "shell.execute_reply.started": "2025-04-13T09:02:53.481551Z"
    },
    "id": "gOAQsIK_Y9C1"
   },
   "outputs": [],
   "source": [
    "# --- Configuration ---\n",
    "# !! IMPORTANT: Set these paths correctly before running !!\n",
    "TRAIN_FILE_PATH = '/kaggle/input/assignment2nlp/train.csv' # <--- CHANGE THIS\n",
    "TEST_FILE_PATH = '/kaggle/input/assignment2nlp/test.csv'   # <--- CHANGE THIS\n",
    "\n",
    "VALIDATION_SET_SIZE = 500\n",
    "OUTPUT_DIR = 'processed_data_A' # Directory to save outputs for Part A\n",
    "PROCESSED_TRAIN_FILE = os.path.join(OUTPUT_DIR, 'train_processed.csv')\n",
    "PROCESSED_VAL_FILE = os.path.join(OUTPUT_DIR, 'validation_processed.csv')\n",
    "PROCESSED_TEST_FILE = os.path.join(OUTPUT_DIR, 'test_processed.csv')\n",
    "\n",
    "\n",
    "\n",
    "def load_data(filepath):\n",
    "    \"\"\"Loads data from a CSV file into a pandas DataFrame.\"\"\"\n",
    "    print(f\"Loading data from {filepath}...\")\n",
    "    if not os.path.exists(filepath):\n",
    "        print(f\"Error: File not found at {filepath}.\")\n",
    "        print(\"Please ensure the TRAIN_FILE_PATH and TEST_FILE_PATH variables are set correctly.\")\n",
    "        exit()\n",
    "    try:\n",
    "        df = pd.read_csv(filepath)\n",
    "        # Ensure 'text' and 'title' columns exist and handle potential NaNs\n",
    "        if 'text' not in df.columns or 'title' not in df.columns:\n",
    "             raise ValueError(\"CSV file must contain 'text' and 'title' columns.\")\n",
    "        df.dropna(subset=['text', 'title'], inplace=True)\n",
    "        df['text'] = df['text'].astype(str)\n",
    "        df['title'] = df['title'].astype(str)\n",
    "        print(f\"Loaded {len(df)} rows.\")\n",
    "        return df\n",
    "    except Exception as e:\n",
    "        print(f\"Error loading data from {filepath}: {e}\")\n",
    "        exit()\n",
    "\n",
    "def create_validation_set(df, val_size, random_seed=42):\n",
    "    \"\"\"Splits a DataFrame into training and validation sets.\"\"\"\n",
    "    print(f\"Creating validation set of size {val_size}...\")\n",
    "    if val_size >= len(df):\n",
    "        print(f\"Warning: Validation set size ({val_size}) is >= dataset size ({len(df)}). Using all but 1 sample for training.\")\n",
    "        val_size = len(df) - 1\n",
    "        if val_size <= 0:\n",
    "             raise ValueError(\"Cannot create validation set. Dataset is too small.\")\n",
    "\n",
    "    val_df = df.sample(n=val_size, random_state=random_seed)\n",
    "    train_df = df.drop(val_df.index).reset_index(drop=True)\n",
    "    val_df = val_df.reset_index(drop=True)\n",
    "    print(f\"New training set size: {len(train_df)}\")\n",
    "    print(f\"Validation set size: {len(val_df)}\")\n",
    "    return train_df, val_df\n",
    "\n",
    "# Initialize Lemmatizer and Stopwords (do this once for efficiency)\n",
    "lemmatizer = WordNetLemmatizer()\n",
    "stop_words = set(stopwords.words('english'))\n",
    "# You can add custom stopwords if you identify any specific ones\n",
    "# stop_words.update(['wikipedia', 'article', 'references', 'external', 'links'])\n",
    "\n",
    "def preprocess_text(text):\n",
    "    \"\"\"Applies preprocessing steps to a single text string.\"\"\"\n",
    "    if not isinstance(text, str):\n",
    "        return \"\" # Handle potential non-string inputs\n",
    "\n",
    "    # 1. Lowercase\n",
    "    text = text.lower()\n",
    "\n",
    "    # 2. Remove non-ASCII characters\n",
    "    # Ensures that any remaining non-ASCII chars after lowercasing are handled\n",
    "    text = text.encode('ascii', 'ignore').decode('ascii', 'ignore')\n",
    "\n",
    "    # 3. Remove punctuation\n",
    "    # Create a translation table: maps punctuation to None (for removal)\n",
    "    translator = str.maketrans('', '', string.punctuation)\n",
    "    text = text.translate(translator)\n",
    "\n",
    "    # 4. Tokenize (split into words)\n",
    "    tokens = word_tokenize(text)\n",
    "\n",
    "    # 5. Remove Stopwords and Lemmatize\n",
    "    processed_tokens = [\n",
    "        lemmatizer.lemmatize(word) # Lemmatize first\n",
    "        for word in tokens\n",
    "        if word.isalpha() # Keep only words containing letters\n",
    "           and word not in stop_words # Remove stopwords\n",
    "           and len(word) > 1 # Optional: remove single-character tokens\n",
    "    ]\n",
    "\n",
    "    # 6. Join tokens back into a single string, separated by space\n",
    "    return \" \".join(processed_tokens)\n",
    "\n",
    "def apply_preprocessing_to_df(df):\n",
    "    \"\"\"Applies preprocessing to 'text' and 'title' columns of a DataFrame.\"\"\"\n",
    "    # Create new columns for processed data\n",
    "    # Show progress using tqdm if installed, otherwise just run apply\n",
    "    try:\n",
    "        from tqdm.auto import tqdm\n",
    "        tqdm.pandas()\n",
    "        print(\"Applying preprocessing to 'text' column (using tqdm)...\")\n",
    "        df['processed_text'] = df['text'].progress_apply(preprocess_text)\n",
    "        print(\"Applying preprocessing to 'title' column (using tqdm)...\")\n",
    "        df['processed_title'] = df['title'].progress_apply(preprocess_text)\n",
    "    except ImportError:\n",
    "        print(\"Applying preprocessing to 'text' column...\")\n",
    "        df['processed_text'] = df['text'].apply(preprocess_text)\n",
    "        print(\"Applying preprocessing to 'title' column...\")\n",
    "        df['processed_title'] = df['title'].apply(preprocess_text)\n",
    "\n",
    "\n",
    "    # Optional: Report how many rows became empty after processing\n",
    "    empty_text_count = (df['processed_text'] == \"\").sum()\n",
    "    empty_title_count = (df['processed_title'] == \"\").sum()\n",
    "    if empty_text_count > 0:\n",
    "        print(f\"Warning: {empty_text_count} rows have empty 'processed_text' after preprocessing.\")\n",
    "    if empty_title_count > 0:\n",
    "        print(f\"Warning: {empty_title_count} rows have empty 'processed_title' after preprocessing.\")\n",
    "\n",
    "    # Keep only rows where both processed text and title are non-empty\n",
    "    original_len = len(df)\n",
    "    df.dropna(subset=['processed_text', 'processed_title'], inplace=True) # Remove rows where processed columns are None\n",
    "    df = df[(df['processed_text'].str.strip() != \"\") & (df['processed_title'].str.strip() != \"\")] # Remove rows where processed columns are empty strings\n",
    "    df = df.reset_index(drop=True)\n",
    "\n",
    "    if len(df) < original_len:\n",
    "        print(f\"Removed {original_len - len(df)} rows due to empty processed text or title.\")\n",
    "\n",
    "    # Select only the processed columns for saving (or keep original if needed)\n",
    "    return df[['processed_text', 'processed_title']]\n",
    "\n",
    "\n",
    "def save_data(df, filepath):\n",
    "    \"\"\"Saves DataFrame to CSV, creating directory if needed.\"\"\"\n",
    "    print(f\"Saving data to {filepath}...\")\n",
    "    try:\n",
    "        # Create the output directory if it doesn't exist\n",
    "        os.makedirs(os.path.dirname(filepath), exist_ok=True)\n",
    "        df.to_csv(filepath, index=False, encoding='utf-8')\n",
    "        print(f\"Successfully saved {len(df)} rows.\")\n",
    "    except Exception as e:\n",
    "        print(f\"Error saving data to {filepath}: {e}\")"
   ]
  },
  {
   "cell_type": "markdown",
   "metadata": {
    "id": "ycuDde1RRTx6"
   },
   "source": [
    "# MAIN EXECUTION"
   ]
  },
  {
   "cell_type": "code",
   "execution_count": 4,
   "metadata": {
    "execution": {
     "iopub.execute_input": "2025-04-13T09:02:53.500602Z",
     "iopub.status.busy": "2025-04-13T09:02:53.500338Z",
     "iopub.status.idle": "2025-04-13T09:05:43.317691Z",
     "shell.execute_reply": "2025-04-13T09:05:43.317016Z",
     "shell.execute_reply.started": "2025-04-13T09:02:53.500582Z"
    },
    "id": "x3-K46XMiNQN",
    "outputId": "ec4cdd47-764b-4976-d209-a0457e9ed548"
   },
   "outputs": [
    {
     "name": "stdout",
     "output_type": "stream",
     "text": [
      "--- Starting Assignment 2: Part A ---\n",
      "Loading data from /kaggle/input/assignment2nlp/train.csv...\n",
      "Loaded 13879 rows.\n",
      "Loading data from /kaggle/input/assignment2nlp/test.csv...\n",
      "Loaded 100 rows.\n",
      "Creating validation set of size 500...\n",
      "New training set size: 13379\n",
      "Validation set size: 500\n",
      "\n",
      "Time taken for data loading and splitting: 5.18 seconds\n",
      "\n",
      "Applying preprocessing to Training set...\n",
      "Applying preprocessing to 'text' column (using tqdm)...\n"
     ]
    },
    {
     "data": {
      "application/vnd.jupyter.widget-view+json": {
       "model_id": "82fc9da147db421ca0fe6e704ddbc5d8",
       "version_major": 2,
       "version_minor": 0
      },
      "text/plain": [
       "  0%|          | 0/13379 [00:00<?, ?it/s]"
      ]
     },
     "metadata": {},
     "output_type": "display_data"
    },
    {
     "name": "stdout",
     "output_type": "stream",
     "text": [
      "Applying preprocessing to 'title' column (using tqdm)...\n"
     ]
    },
    {
     "data": {
      "application/vnd.jupyter.widget-view+json": {
       "model_id": "aacaee9965814901a0b2e23b71e1900c",
       "version_major": 2,
       "version_minor": 0
      },
      "text/plain": [
       "  0%|          | 0/13379 [00:00<?, ?it/s]"
      ]
     },
     "metadata": {},
     "output_type": "display_data"
    },
    {
     "name": "stdout",
     "output_type": "stream",
     "text": [
      "Warning: 136 rows have empty 'processed_title' after preprocessing.\n",
      "Removed 136 rows due to empty processed text or title.\n",
      "\n",
      "Applying preprocessing to Validation set...\n",
      "Applying preprocessing to 'text' column (using tqdm)...\n"
     ]
    },
    {
     "data": {
      "application/vnd.jupyter.widget-view+json": {
       "model_id": "2999fe5405544ad8b10fd14c155be605",
       "version_major": 2,
       "version_minor": 0
      },
      "text/plain": [
       "  0%|          | 0/500 [00:00<?, ?it/s]"
      ]
     },
     "metadata": {},
     "output_type": "display_data"
    },
    {
     "name": "stdout",
     "output_type": "stream",
     "text": [
      "Applying preprocessing to 'title' column (using tqdm)...\n"
     ]
    },
    {
     "data": {
      "application/vnd.jupyter.widget-view+json": {
       "model_id": "b9db4621dad542019775c67000415da0",
       "version_major": 2,
       "version_minor": 0
      },
      "text/plain": [
       "  0%|          | 0/500 [00:00<?, ?it/s]"
      ]
     },
     "metadata": {},
     "output_type": "display_data"
    },
    {
     "name": "stdout",
     "output_type": "stream",
     "text": [
      "Warning: 5 rows have empty 'processed_title' after preprocessing.\n",
      "Removed 5 rows due to empty processed text or title.\n",
      "\n",
      "Applying preprocessing to Test set...\n",
      "Applying preprocessing to 'text' column (using tqdm)...\n"
     ]
    },
    {
     "data": {
      "application/vnd.jupyter.widget-view+json": {
       "model_id": "cbb7e3d229e44ef3bfc1f4450ca573f9",
       "version_major": 2,
       "version_minor": 0
      },
      "text/plain": [
       "  0%|          | 0/100 [00:00<?, ?it/s]"
      ]
     },
     "metadata": {},
     "output_type": "display_data"
    },
    {
     "name": "stdout",
     "output_type": "stream",
     "text": [
      "Applying preprocessing to 'title' column (using tqdm)...\n"
     ]
    },
    {
     "data": {
      "application/vnd.jupyter.widget-view+json": {
       "model_id": "efd5bf16021840159ee77413f6cc5af4",
       "version_major": 2,
       "version_minor": 0
      },
      "text/plain": [
       "  0%|          | 0/100 [00:00<?, ?it/s]"
      ]
     },
     "metadata": {},
     "output_type": "display_data"
    },
    {
     "name": "stdout",
     "output_type": "stream",
     "text": [
      "\n",
      "Time taken for preprocessing all sets: 160.81 seconds\n",
      "\n",
      "Saving processed data...\n",
      "Saving data to processed_data_A/train_processed.csv...\n",
      "Successfully saved 13243 rows.\n",
      "Saving data to processed_data_A/validation_processed.csv...\n",
      "Successfully saved 495 rows.\n",
      "Saving data to processed_data_A/test_processed.csv...\n",
      "Successfully saved 100 rows.\n",
      "\n",
      "Time taken for saving processed data: 3.81 seconds\n",
      "\n",
      "--- Part A Summary ---\n",
      "Final Train Set Size (processed): 13243\n",
      "Final Validation Set Size (processed): 495\n",
      "Final Test Set Size (processed): 100\n",
      "Processed files saved in directory: 'processed_data_A'\n",
      "\n",
      "Total execution time for Part A: 169.80 seconds (2.83 minutes)\n",
      "--- Part A Complete ---\n"
     ]
    }
   ],
   "source": [
    "# --- Main Execution Block ---\n",
    "if __name__ == \"__main__\":\n",
    "    total_start_time = time.time()\n",
    "    print(\"--- Starting Assignment 2: Part A ---\")\n",
    "\n",
    "    # Make sure the user has set the paths\n",
    "    if 'path/to/your/' in TRAIN_FILE_PATH or 'path/to/your/' in TEST_FILE_PATH:\n",
    "        print(\"!!!!!!!!!!!!!!!!!!!!!!!!!!!!!!!!!!!!!!!!!!!!!!!!!!!!!!!!!!!!!\")\n",
    "        print(\"!!! ERROR: Please update TRAIN_FILE_PATH and TEST_FILE_PATH !!!\")\n",
    "        print(\"!!!        variables in the script before running.        !!!\")\n",
    "        print(\"!!!!!!!!!!!!!!!!!!!!!!!!!!!!!!!!!!!!!!!!!!!!!!!!!!!!!!!!!!!!!\")\n",
    "        exit()\n",
    "\n",
    "\n",
    "    # 1. Load Data\n",
    "    load_split_start_time = time.time()\n",
    "    train_df_raw = load_data(TRAIN_FILE_PATH)\n",
    "    test_df_raw = load_data(TEST_FILE_PATH)\n",
    "\n",
    "    # 2. Create Validation Set\n",
    "    train_df_raw, validation_df_raw = create_validation_set(train_df_raw, VALIDATION_SET_SIZE)\n",
    "    load_split_end_time = time.time()\n",
    "    load_split_duration = load_split_end_time - load_split_start_time\n",
    "    print(f\"\\nTime taken for data loading and splitting: {load_split_duration:.2f} seconds\")\n",
    "\n",
    "    # 3. Apply Preprocessing\n",
    "    preprocessing_start_time = time.time()\n",
    "    print(\"\\nApplying preprocessing to Training set...\")\n",
    "    train_df_processed = apply_preprocessing_to_df(train_df_raw.copy()) # Use .copy() to avoid SettingWithCopyWarning\n",
    "\n",
    "    print(\"\\nApplying preprocessing to Validation set...\")\n",
    "    validation_df_processed = apply_preprocessing_to_df(validation_df_raw.copy())\n",
    "\n",
    "    print(\"\\nApplying preprocessing to Test set...\")\n",
    "    test_df_processed = apply_preprocessing_to_df(test_df_raw.copy())\n",
    "    preprocessing_end_time = time.time()\n",
    "    preprocessing_duration = preprocessing_end_time - preprocessing_start_time\n",
    "    print(f\"\\nTime taken for preprocessing all sets: {preprocessing_duration:.2f} seconds\")\n",
    "\n",
    "    # 4. Save Processed Data\n",
    "    saving_start_time = time.time()\n",
    "    print(\"\\nSaving processed data...\")\n",
    "    save_data(train_df_processed, PROCESSED_TRAIN_FILE)\n",
    "    save_data(validation_df_processed, PROCESSED_VAL_FILE)\n",
    "    save_data(test_df_processed, PROCESSED_TEST_FILE)\n",
    "    saving_end_time = time.time()\n",
    "    saving_duration = saving_end_time - saving_start_time\n",
    "    print(f\"\\nTime taken for saving processed data: {saving_duration:.2f} seconds\")\n",
    "\n",
    "    # --- Summary ---\n",
    "    total_end_time = time.time()\n",
    "    total_duration = total_end_time - total_start_time\n",
    "    print(\"\\n--- Part A Summary ---\")\n",
    "    print(f\"Final Train Set Size (processed): {len(train_df_processed)}\")\n",
    "    print(f\"Final Validation Set Size (processed): {len(validation_df_processed)}\")\n",
    "    print(f\"Final Test Set Size (processed): {len(test_df_processed)}\")\n",
    "    print(f\"Processed files saved in directory: '{OUTPUT_DIR}'\")\n",
    "    print(f\"\\nTotal execution time for Part A: {total_duration:.2f} seconds ({total_duration/60:.2f} minutes)\")\n",
    "    print(\"--- Part A Complete ---\")"
   ]
  },
  {
   "cell_type": "markdown",
   "metadata": {
    "id": "9OZ5Ce0WSJ-T"
   },
   "source": [
    "print statements like loading data are used to monitor which part of code is running\n"
   ]
  }
 ],
 "metadata": {
  "colab": {
   "provenance": []
  },
  "kaggle": {
   "accelerator": "nvidiaTeslaT4",
   "dataSources": [
    {
     "datasetId": 7129532,
     "sourceId": 11385756,
     "sourceType": "datasetVersion"
    }
   ],
   "dockerImageVersionId": 31011,
   "isGpuEnabled": true,
   "isInternetEnabled": true,
   "language": "python",
   "sourceType": "notebook"
  },
  "kernelspec": {
   "display_name": "Python 3 (ipykernel)",
   "language": "python",
   "name": "python3"
  },
  "language_info": {
   "codemirror_mode": {
    "name": "ipython",
    "version": 3
   },
   "file_extension": ".py",
   "mimetype": "text/x-python",
   "name": "python",
   "nbconvert_exporter": "python",
   "pygments_lexer": "ipython3",
   "version": "3.12.3"
  }
 },
 "nbformat": 4,
 "nbformat_minor": 4
}
